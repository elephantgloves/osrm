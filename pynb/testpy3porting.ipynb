{
 "cells": [
  {
   "cell_type": "code",
   "execution_count": 1,
   "metadata": {},
   "outputs": [],
   "source": [
    "%load_ext autoreload\n",
    "%autoreload 2"
   ]
  },
  {
   "cell_type": "code",
   "execution_count": 2,
   "metadata": {},
   "outputs": [],
   "source": [
    "import urllib\n",
    "from async_requests import AsyncRequest\n",
    "from osrm_router import RouteRequester\n",
    "import async_routing_service as rs\n",
    "from route import RouteObject"
   ]
  },
  {
   "cell_type": "code",
   "execution_count": 3,
   "metadata": {},
   "outputs": [],
   "source": [
    "rtserv = rs.AsyncRoutingService()"
   ]
  },
  {
   "cell_type": "code",
   "execution_count": 4,
   "metadata": {},
   "outputs": [],
   "source": [
    "urlholder = \"http://localhost:5000/route/v1/driving/75,40;74.5,40.2?steps=true\"\n",
    "response = urllib.request.urlopen(urlholder)"
   ]
  },
  {
   "cell_type": "code",
   "execution_count": 5,
   "metadata": {},
   "outputs": [],
   "source": [
    "item = response.read().decode(\"utf-8\")"
   ]
  },
  {
   "cell_type": "code",
   "execution_count": 6,
   "metadata": {},
   "outputs": [
    {
     "data": {
      "text/plain": [
       "'{\"code\":\"Ok\",\"routes\":[{\"geometry\":\"{utyFjyquL??\",\"legs\":[{\"steps\":[{\"intersections\":[{\"out\":0,\"entry\":[true],\"bearings\":[89],\"location\":[-71.858297,41.071183]}],\"driving_side\":\"right\",\"geometry\":\"{utyFjyquL??\",\"mode\":\"driving\",\"duration\":0,\"maneuver\":{\"bearing_after\":89,\"location\":[-71.858297,41.071183],\"bearing_before\":0,\"type\":\"depart\"},\"weight\":0,\"distance\":0,\"name\":\"\"},{\"intersections\":[{\"in\":0,\"entry\":[true],\"bearings\":[269],\"location\":[-71.858297,41.071183]}],\"driving_side\":\"right\",\"geometry\":\"{utyFjyquL\",\"mode\":\"driving\",\"duration\":0,\"maneuver\":{\"bearing_after\":0,\"location\":[-71.858297,41.071183],\"bearing_before\":89,\"type\":\"arrive\"},\"weight\":0,\"distance\":0,\"name\":\"\"}],\"distance\":0,\"duration\":0,\"summary\":\"\",\"weight\":0}],\"distance\":0,\"duration\":0,\"weight_name\":\"routability\",\"weight\":0}],\"waypoints\":[{\"hint\":\"jesOgLqdGoAIAAAAAAAAAFcAAAAAAAAAxiVXQAAAAAARqhBCAAAAAAgAAAAAAAAAVwAAAAAAAAAuAgAAh4e3-0-ycgLAaHgEAFpiAgMAnwUJLon-\",\"name\":\"\",\"location\":[-71.858297,41.071183]},{\"hint\":\"jesOgLqdGoAIAAAAAAAAAFcAAAAAAAAAxiVXQAAAAAARqhBCAAAAAAgAAAAAAAAAVwAAAAAAAAAuAgAAh4e3-0-ycgKgx3AEQGdlAgMAnwUJLon-\",\"name\":\"\",\"location\":[-71.858297,41.071183]}]}'"
      ]
     },
     "execution_count": 6,
     "metadata": {},
     "output_type": "execute_result"
    }
   ],
   "source": [
    "item"
   ]
  },
  {
   "cell_type": "code",
   "execution_count": 7,
   "metadata": {},
   "outputs": [
    {
     "data": {
      "text/plain": [
       "['DefragResult',\n",
       " 'DefragResultBytes',\n",
       " 'MAX_CACHE_SIZE',\n",
       " 'ParseResult',\n",
       " 'ParseResultBytes',\n",
       " 'Quoter',\n",
       " 'ResultBase',\n",
       " 'SplitResult',\n",
       " 'SplitResultBytes',\n",
       " '_ALWAYS_SAFE',\n",
       " '_ALWAYS_SAFE_BYTES',\n",
       " '_DefragResultBase',\n",
       " '_NetlocResultMixinBase',\n",
       " '_NetlocResultMixinBytes',\n",
       " '_NetlocResultMixinStr',\n",
       " '_ParseResultBase',\n",
       " '_ResultMixinBytes',\n",
       " '_ResultMixinStr',\n",
       " '_SplitResultBase',\n",
       " '__all__',\n",
       " '__builtins__',\n",
       " '__cached__',\n",
       " '__doc__',\n",
       " '__file__',\n",
       " '__loader__',\n",
       " '__name__',\n",
       " '__package__',\n",
       " '__spec__',\n",
       " '_asciire',\n",
       " '_coerce_args',\n",
       " '_decode_args',\n",
       " '_encode_result',\n",
       " '_hexdig',\n",
       " '_hextobyte',\n",
       " '_hostprog',\n",
       " '_implicit_encoding',\n",
       " '_implicit_errors',\n",
       " '_noop',\n",
       " '_nportprog',\n",
       " '_parse_cache',\n",
       " '_passwdprog',\n",
       " '_portprog',\n",
       " '_queryprog',\n",
       " '_safe_quoters',\n",
       " '_splitnetloc',\n",
       " '_splitparams',\n",
       " '_tagprog',\n",
       " '_typeprog',\n",
       " '_userprog',\n",
       " '_valueprog',\n",
       " 'clear_cache',\n",
       " 'collections',\n",
       " 'namedtuple',\n",
       " 'non_hierarchical',\n",
       " 'parse_qs',\n",
       " 'parse_qsl',\n",
       " 'quote',\n",
       " 'quote_from_bytes',\n",
       " 'quote_plus',\n",
       " 're',\n",
       " 'scheme_chars',\n",
       " 'splitattr',\n",
       " 'splithost',\n",
       " 'splitnport',\n",
       " 'splitpasswd',\n",
       " 'splitport',\n",
       " 'splitquery',\n",
       " 'splittag',\n",
       " 'splittype',\n",
       " 'splituser',\n",
       " 'splitvalue',\n",
       " 'sys',\n",
       " 'to_bytes',\n",
       " 'unquote',\n",
       " 'unquote_plus',\n",
       " 'unquote_to_bytes',\n",
       " 'unwrap',\n",
       " 'urldefrag',\n",
       " 'urlencode',\n",
       " 'urljoin',\n",
       " 'urlparse',\n",
       " 'urlsplit',\n",
       " 'urlunparse',\n",
       " 'urlunsplit',\n",
       " 'uses_fragment',\n",
       " 'uses_netloc',\n",
       " 'uses_params',\n",
       " 'uses_query',\n",
       " 'uses_relative']"
      ]
     },
     "execution_count": 7,
     "metadata": {},
     "output_type": "execute_result"
    }
   ],
   "source": [
    "dir(urllib.parse)"
   ]
  },
  {
   "cell_type": "code",
   "execution_count": 8,
   "metadata": {},
   "outputs": [],
   "source": [
    "osr = RouteRequester([[-75, 40], [-74.5, 40.2]])"
   ]
  },
  {
   "cell_type": "code",
   "execution_count": 9,
   "metadata": {},
   "outputs": [
    {
     "name": "stdout",
     "output_type": "stream",
     "text": [
      "[{'duration': 196.1, 'legs': [{'distance': 1250.1, 'steps': [{'duration': 28.1, 'mode': 'driving', 'distance': 91.4, 'maneuver': {'type': 'depart', 'bearing_after': 60, 'location': [-74.253184, 40.503039], 'bearing_before': 0}, 'intersections': [{'entry': [True], 'out': 0, 'bearings': [60], 'location': [-74.253184, 40.503039]}, {'entry': [True, False, True], 'out': 0, 'bearings': [60, 255, 345], 'location': [-74.25293, 40.503133], 'in': 1}], 'geometry': '_wevFjqedMIWGYEMEOCSCmAEY', 'driving_side': 'right', 'name': '', 'weight': 49.8}, {'duration': 40, 'mode': 'driving', 'distance': 271.5, 'maneuver': {'type': 'end of road', 'bearing_before': 68, 'bearing_after': 331, 'location': [-74.252162, 40.503261], 'modifier': 'left'}, 'intersections': [{'entry': [False, False, True], 'out': 2, 'bearings': [150, 255, 330], 'location': [-74.252162, 40.503261], 'in': 1}], 'geometry': 'kxevF~jedMeAp@mEjCqARqAAE?E?', 'driving_side': 'right', 'name': 'Satterlee Street', 'weight': 40}, {'duration': 12.4, 'mode': 'driving', 'distance': 75.3, 'maneuver': {'type': 'turn', 'bearing_before': 2, 'bearing_after': 78, 'location': [-74.2532, 40.505518], 'modifier': 'right'}, 'intersections': [{'entry': [True, True, False], 'out': 1, 'bearings': [0, 75, 180], 'location': [-74.2532, 40.505518], 'in': 2}], 'geometry': 'offvFnqedMWoD', 'driving_side': 'right', 'name': 'Shore Road', 'weight': 12.4}, {'duration': 50.9, 'mode': 'driving', 'distance': 316.4, 'maneuver': {'type': 'turn', 'bearing_before': 78, 'bearing_after': 164, 'location': [-74.252324, 40.50564], 'modifier': 'right'}, 'intersections': [{'entry': [True, True, True, False], 'out': 2, 'bearings': [0, 75, 165, 255], 'location': [-74.252324, 40.50564], 'in': 3}], 'geometry': 'ggfvF~kedMdP_E', 'driving_side': 'right', 'name': 'Craig Avenue', 'weight': 50.9}, {'duration': 12.1, 'mode': 'driving', 'distance': 144.7, 'maneuver': {'type': 'turn', 'bearing_before': 164, 'bearing_after': 74, 'location': [-74.251361, 40.502891], 'modifier': 'left'}, 'intersections': [{'entry': [True, True, True, False], 'out': 0, 'bearings': [75, 165, 255, 345], 'location': [-74.251361, 40.502891], 'in': 3}, {'entry': [True, False, True], 'out': 0, 'bearings': [75, 255, 345], 'location': [-74.250526, 40.503057], 'in': 1}], 'geometry': 'avevF~eedMa@eD_@cD', 'driving_side': 'right', 'name': 'Hylan Boulevard', 'weight': 12.1}, {'duration': 43.2, 'mode': 'driving', 'distance': 285.3, 'maneuver': {'type': 'turn', 'bearing_before': 74, 'bearing_after': 164, 'location': [-74.249705, 40.503219], 'modifier': 'right'}, 'intersections': [{'entry': [True, True, False, True], 'out': 1, 'bearings': [75, 165, 255, 345], 'location': [-74.249705, 40.503219], 'in': 2}], 'geometry': 'cxevFt{ddMnNkD', 'driving_side': 'right', 'name': 'Connecticut Street', 'weight': 43.2}, {'duration': 9.4, 'mode': 'driving', 'distance': 65.5, 'maneuver': {'type': 'turn', 'bearing_before': 164, 'bearing_after': 254, 'location': [-74.248848, 40.500738], 'modifier': 'right'}, 'intersections': [{'entry': [True, True, False], 'out': 1, 'bearings': [75, 255, 345], 'location': [-74.248848, 40.500738], 'in': 2}], 'geometry': 'shevFhvddM\\\\tC', 'driving_side': 'right', 'name': 'Clermont Avenue', 'weight': 9.4}, {'duration': 0, 'mode': 'driving', 'distance': 0, 'maneuver': {'type': 'arrive', 'bearing_after': 0, 'location': [-74.249597, 40.50059], 'bearing_before': 254}, 'intersections': [{'entry': [True], 'location': [-74.249597, 40.50059], 'bearings': [75], 'in': 0}], 'geometry': 'ugevF~zddM', 'driving_side': 'right', 'name': 'Clermont Avenue', 'weight': 0}], 'duration': 196.1, 'weight': 217.8, 'summary': 'Craig Avenue, Connecticut Street'}], 'distance': 1250.1, 'weight_name': 'routability', 'geometry': '_wevFjqedM]oAGaBEYsG|DqAR}AAWoDdP_EaAiInNkD\\\\tC', 'weight': 217.8}] 196.1 [1250.1, 196.1, [[-74.253184, 40.503039], [-74.252162, 40.503261], [-74.2532, 40.505518], [-74.252324, 40.50564], [-74.251361, 40.502891], [-74.249705, 40.503219], [-74.248848, 40.500738], [-74.249597, 40.50059]]]\n"
     ]
    }
   ],
   "source": [
    "dir(osr.route)\n",
    "print(osr.route.text, osr.route.traveltime, osr.route.parse_route())"
   ]
  },
  {
   "cell_type": "code",
   "execution_count": 10,
   "metadata": {},
   "outputs": [
    {
     "name": "stdout",
     "output_type": "stream",
     "text": [
      "[-74, 40] [-74.5, 40.2]\n",
      "[-75, 40] [-75.5, 40.2]\n",
      "[-76, 40.1] [-75, 40]\n"
     ]
    },
    {
     "data": {
      "text/plain": [
       "[[[[-74.218879, 40.50351],\n",
       "   [-74.221565, 40.508957],\n",
       "   [-74.249705, 40.503219],\n",
       "   [-74.248848, 40.500738],\n",
       "   [-74.249597, 40.50059]],\n",
       "  3544.7,\n",
       "  410.2],\n",
       " [[[-74.253184, 40.503039],\n",
       "   [-74.252162, 40.503261],\n",
       "   [-74.252878, 40.507625],\n",
       "   [-74.254901, 40.507704],\n",
       "   [-74.255293, 40.507644]],\n",
       "  819.8,\n",
       "  127.1],\n",
       " [[[-74.255293, 40.507644],\n",
       "   [-74.254901, 40.507704],\n",
       "   [-74.252081, 40.507583],\n",
       "   [-74.251361, 40.502891],\n",
       "   [-74.251841, 40.502796],\n",
       "   [-74.252162, 40.503261],\n",
       "   [-74.253184, 40.503039]],\n",
       "  1013.8,\n",
       "  143.2]]"
      ]
     },
     "execution_count": 10,
     "metadata": {},
     "output_type": "execute_result"
    }
   ],
   "source": [
    "rtserv.route([[[-74, 40], [-74.5, 40.2]], \n",
    "              [[-75, 40], [-75.5, 40.2]],\n",
    "              [[-76, 40.1], [-75, 40]]\n",
    "             ])"
   ]
  },
  {
   "cell_type": "code",
   "execution_count": 11,
   "metadata": {},
   "outputs": [],
   "source": [
    "res = \"\"\"{\"code\":\"Ok\",\"routes\":[{\"geometry\":\"}yevF~z~cMJrBkJ`KaVb@z@vHzA~ZvAhNxHf]pQp{AnNkD\\\\tC\",\"legs\":[{\"steps\":[{\"intersections\":[{\"out\":0,\"entry\":[true],\"bearings\":[253],\"location\":[-74.218879,40.50351]}],\"driving_side\":\"right\",\"geometry\":\"}yevF~z~cMHj@@^?f@a@Vo@z@sFhGQRSN[Lg@Dg@?oGAeJP\",\"mode\":\"driving\",\"duration\":179.8,\"maneuver\":{\"bearing_after\":253,\"location\":[-74.218879,40.50351],\"bearing_before\":0,\"type\":\"depart\"},\"weight\":179.8,\"distance\":722.3,\"name\":\"\"},{\"intersections\":[{\"out\":2,\"location\":[-74.221565,40.508957],\"bearings\":[75,180,255,345],\"entry\":[true,false,true,true],\"in\":1},{\"lanes\":[{\"valid\":false,\"indications\":[\"left\"]},{\"valid\":true,\"indications\":[\"none\"]},{\"valid\":true,\"indications\":[\"none\"]}],\"out\":2,\"location\":[-74.223777,40.5086],\"bearings\":[90,180,255,345],\"entry\":[false,true,true,true],\"in\":0},{\"out\":2,\"location\":[-74.227613,40.508203],\"bearings\":[75,165,255],\"entry\":[false,true,true],\"in\":0},{\"lanes\":[{\"valid\":false,\"indications\":[\"left\"]},{\"valid\":true,\"indications\":[\"none\"]},{\"valid\":true,\"indications\":[\"none\"]}],\"out\":2,\"location\":[-74.230063,40.507755],\"bearings\":[75,165,240,345],\"entry\":[false,true,true,true],\"in\":0},{\"out\":2,\"location\":[-74.233063,40.506756],\"bearings\":[60,165,255,345],\"entry\":[false,true,true,true],\"in\":0},{\"out\":2,\"location\":[-74.234896,40.506189],\"bearings\":[75,165,255,345],\"entry\":[false,true,true,true],\"in\":0},{\"out\":2,\"location\":[-74.238181,40.505527],\"bearings\":[75,165,255,345],\"entry\":[false,true,true,false],\"in\":0},{\"out\":2,\"location\":[-74.23981,40.505193],\"bearings\":[75,165,255],\"entry\":[false,true,true],\"in\":0},{\"out\":1,\"location\":[-74.240498,40.505061],\"bearings\":[75,255,345],\"entry\":[false,true,true],\"in\":0},{\"out\":2,\"location\":[-74.240733,40.505013],\"bearings\":[75,165,255],\"entry\":[false,true,true],\"in\":0},{\"out\":2,\"location\":[-74.241639,40.504832],\"bearings\":[75,165,255,345],\"entry\":[false,true,true,false],\"in\":0},{\"out\":2,\"location\":[-74.242538,40.504651],\"bearings\":[75,165,255,345],\"entry\":[false,true,true,false],\"in\":0},{\"out\":2,\"location\":[-74.24345,40.504469],\"bearings\":[75,165,255,345],\"entry\":[false,true,true,true],\"in\":0},{\"out\":2,\"location\":[-74.244329,40.504291],\"bearings\":[75,165,255,345],\"entry\":[false,true,true,false],\"in\":0},{\"out\":2,\"location\":[-74.245201,40.504116],\"bearings\":[75,165,255,345],\"entry\":[false,true,true,false],\"in\":0},{\"out\":2,\"location\":[-74.24609,40.50394],\"bearings\":[75,165,255,345],\"entry\":[false,true,true,true],\"in\":0},{\"out\":2,\"location\":[-74.247023,40.503757],\"bearings\":[75,165,255,345],\"entry\":[false,true,true,true],\"in\":0},{\"out\":2,\"location\":[-74.247936,40.50357],\"bearings\":[75,165,255,345],\"entry\":[false,true,true,false],\"in\":0},{\"out\":2,\"location\":[-74.248809,40.503397],\"bearings\":[75,165,255,345],\"entry\":[false,true,true,true],\"in\":0}],\"driving_side\":\"right\",\"geometry\":\"_|fvFxk_dMXpB`@dEJ`CHdA@n@Dv@VbFd@jJNbBl@zFHn@Hp@Df@f@rB~CbNpBnJx@|Gl@~EZpCbAdIXhCHl@b@tDPxAPxAb@tDb@nD`@lDb@pDb@xDd@vD`@lDb@rD\",\"mode\":\"driving\",\"duration\":177.8,\"maneuver\":{\"bearing_after\":253,\"type\":\"turn\",\"modifier\":\"left\",\"bearing_before\":357,\"location\":[-74.221565,40.508957]},\"weight\":177.8,\"distance\":2471.7,\"name\":\"Hylan Boulevard\"},{\"intersections\":[{\"out\":1,\"location\":[-74.249705,40.503219],\"bearings\":[75,165,255,345],\"entry\":[false,true,true,true],\"in\":0}],\"driving_side\":\"right\",\"geometry\":\"cxevFt{ddMnNkD\",\"mode\":\"driving\",\"duration\":43.2,\"maneuver\":{\"bearing_after\":164,\"type\":\"turn\",\"modifier\":\"left\",\"bearing_before\":254,\"location\":[-74.249705,40.503219]},\"weight\":43.2,\"distance\":285.3,\"name\":\"Connecticut Street\"},{\"intersections\":[{\"out\":1,\"location\":[-74.248848,40.500738],\"bearings\":[75,255,345],\"entry\":[true,true,false],\"in\":2}],\"driving_side\":\"right\",\"geometry\":\"shevFhvddM\\\\tC\",\"mode\":\"driving\",\"duration\":9.4,\"maneuver\":{\"bearing_after\":254,\"type\":\"turn\",\"modifier\":\"right\",\"bearing_before\":164,\"location\":[-74.248848,40.500738]},\"weight\":9.4,\"distance\":65.5,\"name\":\"Clermont Avenue\"},{\"intersections\":[{\"in\":0,\"entry\":[true],\"bearings\":[75],\"location\":[-74.249597,40.50059]}],\"driving_side\":\"right\",\"geometry\":\"ugevF~zddM\",\"mode\":\"driving\",\"duration\":0,\"maneuver\":{\"bearing_after\":0,\"location\":[-74.249597,40.50059],\"bearing_before\":254,\"type\":\"arrive\"},\"weight\":0,\"distance\":0,\"name\":\"Clermont Avenue\"}],\"distance\":3544.7,\"duration\":410.2,\"summary\":\"Hylan Boulevard, Connecticut Street\",\"weight\":410.2}],\"distance\":3544.7,\"duration\":410.2,\"weight_name\":\"routability\",\"weight\":410.2}],\"waypoints\":[{\"hint\":\"6W8YgEJzGIAuAAAAAAAAAJcGAAAWBwAAYKqZQQAAAADZmy9EsYg-RC4AAAAAAAAAlwYAABYHAAAuAgAAgYKT-9YIagKA2Zb7AFpiAgwAnwQJLon-\",\"name\":\"\",\"location\":[-74.218879,40.50351]},{\"hint\":\"w6IDgF5sGIBTAQAAAAAAAAAAAAAAAAAAnc1qQwAAAAAAAAAAAAAAAFMBAAAAAAAAAAAAAAAAAAAuAgAAgwqT-279aQJgOI_7QGdlAgAATwoJLon-\",\"name\":\"Massachusetts Street\",\"location\":[-74.249597,40.50059]}]}\n",
    "ROUTE {\"code\":\"Ok\",\"routes\":[{\"geometry\":\"}yevF~z~cMJrBkJ`KaVb@z@vHzA~ZvAhNxHf]pQp{AnNkD\\\\tC\",\"legs\":[{\"steps\":[{\"intersections\":[{\"out\":0,\"entry\":[true],\"bearings\":[253],\"location\":[-74.218879,40.50351]}],\"driving_side\":\"right\",\"geometry\":\"}yevF~z~cMHj@@^?f@a@Vo@z@sFhGQRSN[Lg@Dg@?oGAeJP\",\"mode\":\"driving\",\"duration\":179.8,\"maneuver\":{\"bearing_after\":253,\"location\":[-74.218879,40.50351],\"bearing_before\":0,\"type\":\"depart\"},\"weight\":179.8,\"distance\":722.3,\"name\":\"\"},{\"intersections\":[{\"out\":2,\"location\":[-74.221565,40.508957],\"bearings\":[75,180,255,345],\"entry\":[true,false,true,true],\"in\":1},{\"lanes\":[{\"valid\":false,\"indications\":[\"left\"]},{\"valid\":true,\"indications\":[\"none\"]},{\"valid\":true,\"indications\":[\"none\"]}],\"out\":2,\"location\":[-74.223777,40.5086],\"bearings\":[90,180,255,345],\"entry\":[false,true,true,true],\"in\":0},{\"out\":2,\"location\":[-74.227613,40.508203],\"bearings\":[75,165,255],\"entry\":[false,true,true],\"in\":0},{\"lanes\":[{\"valid\":false,\"indications\":[\"left\"]},{\"valid\":true,\"indications\":[\"none\"]},{\"valid\":true,\"indications\":[\"none\"]}],\"out\":2,\"location\":[-74.230063,40.507755],\"bearings\":[75,165,240,345],\"entry\":[false,true,true,true],\"in\":0},{\"out\":2,\"location\":[-74.233063,40.506756],\"bearings\":[60,165,255,345],\"entry\":[false,true,true,true],\"in\":0},{\"out\":2,\"location\":[-74.234896,40.506189],\"bearings\":[75,165,255,345],\"entry\":[false,true,true,true],\"in\":0},{\"out\":2,\"location\":[-74.238181,40.505527],\"bearings\":[75,165,255,345],\"entry\":[false,true,true,false],\"in\":0},{\"out\":2,\"location\":[-74.23981,40.505193],\"bearings\":[75,165,255],\"entry\":[false,true,true],\"in\":0},{\"out\":1,\"location\":[-74.240498,40.505061],\"bearings\":[75,255,345],\"entry\":[false,true,true],\"in\":0},{\"out\":2,\"location\":[-74.240733,40.505013],\"bearings\":[75,165,255],\"entry\":[false,true,true],\"in\":0},{\"out\":2,\"location\":[-74.241639,40.504832],\"bearings\":[75,165,255,345],\"entry\":[false,true,true,false],\"in\":0},{\"out\":2,\"location\":[-74.242538,40.504651],\"bearings\":[75,165,255,345],\"entry\":[false,true,true,false],\"in\":0},{\"out\":2,\"location\":[-74.24345,40.504469],\"bearings\":[75,165,255,345],\"entry\":[false,true,true,true],\"in\":0},{\"out\":2,\"location\":[-74.244329,40.504291],\"bearings\":[75,165,255,345],\"entry\":[false,true,true,false],\"in\":0},{\"out\":2,\"location\":[-74.245201,40.504116],\"bearings\":[75,165,255,345],\"entry\":[false,true,true,false],\"in\":0},{\"out\":2,\"location\":[-74.24609,40.50394],\"bearings\":[75,165,255,345],\"entry\":[false,true,true,true],\"in\":0},{\"out\":2,\"location\":[-74.247023,40.503757],\"bearings\":[75,165,255,345],\"entry\":[false,true,true,true],\"in\":0},{\"out\":2,\"location\":[-74.247936,40.50357],\"bearings\":[75,165,255,345],\"entry\":[false,true,true,false],\"in\":0},{\"out\":2,\"location\":[-74.248809,40.503397],\"bearings\":[75,165,255,345],\"entry\":[false,true,true,true],\"in\":0}],\"driving_side\":\"right\",\"geometry\":\"_|fvFxk_dMXpB`@dEJ`CHdA@n@Dv@VbFd@jJNbBl@zFHn@Hp@Df@f@rB~CbNpBnJx@|Gl@~EZpCbAdIXhCHl@b@tDPxAPxAb@tDb@nD`@lDb@pDb@xDd@vD`@lDb@rD\",\"mode\":\"driving\",\"duration\":177.8,\"maneuver\":{\"bearing_after\":253,\"type\":\"turn\",\"modifier\":\"left\",\"bearing_before\":357,\"location\":[-74.221565,40.508957]},\"weight\":177.8,\"distance\":2471.7,\"name\":\"Hylan Boulevard\"},{\"intersections\":[{\"out\":1,\"location\":[-74.249705,40.503219],\"bearings\":[75,165,255,345],\"entry\":[false,true,true,true],\"in\":0}],\"driving_side\":\"right\",\"geometry\":\"cxevFt{ddMnNkD\",\"mode\":\"driving\",\"duration\":43.2,\"maneuver\":{\"bearing_after\":164,\"type\":\"turn\",\"modifier\":\"left\",\"bearing_before\":254,\"location\":[-74.249705,40.503219]},\"weight\":43.2,\"distance\":285.3,\"name\":\"Connecticut Street\"},{\"intersections\":[{\"out\":1,\"location\":[-74.248848,40.500738],\"bearings\":[75,255,345],\"entry\":[true,true,false],\"in\":2}],\"driving_side\":\"right\",\"geometry\":\"shevFhvddM\\\\tC\",\"mode\":\"driving\",\"duration\":9.4,\"maneuver\":{\"bearing_after\":254,\"type\":\"turn\",\"modifier\":\"right\",\"bearing_before\":164,\"location\":[-74.248848,40.500738]},\"weight\":9.4,\"distance\":65.5,\"name\":\"Clermont Avenue\"},{\"intersections\":[{\"in\":0,\"entry\":[true],\"bearings\":[75],\"location\":[-74.249597,40.50059]}],\"driving_side\":\"right\",\"geometry\":\"ugevF~zddM\",\"mode\":\"driving\",\"duration\":0,\"maneuver\":{\"bearing_after\":0,\"location\":[-74.249597,40.50059],\"bearing_before\":254,\"type\":\"arrive\"},\"weight\":0,\"distance\":0,\"name\":\"Clermont Avenue\"}],\"distance\":3544.7,\"duration\":410.2,\"summary\":\"Hylan Boulevard, Connecticut Street\",\"weight\":410.2}],\"distance\":3544.7,\"duration\":410.2,\"weight_name\":\"routability\",\"weight\":410.2}],\"waypoints\":[{\"hint\":\"6W8YgEJzGIAuAAAAAAAAAJcGAAAWBwAAYKqZQQAAAADZmy9EsYg-RC4AAAAAAAAAlwYAABYHAAAuAgAAgYKT-9YIagKA2Zb7AFpiAgwAnwQJLon-\",\"name\":\"\",\"location\":[-74.218879,40.50351]},{\"hint\":\"w6IDgF5sGIBTAQAAAAAAAAAAAAAAAAAAnc1qQwAAAAAAAAAAAAAAAFMBAAAAAAAAAAAAAAAAAAAuAgAAgwqT-279aQJgOI_7QGdlAgAATwoJLon-\",\"name\":\"Massachusetts Street\",\"location\":[-74.249597,40.50059]}]}\"\"\""
   ]
  },
  {
   "cell_type": "code",
   "execution_count": 12,
   "metadata": {},
   "outputs": [
    {
     "ename": "ValueError",
     "evalue": "Extra data: line 2 column 1 - line 2 column 4807 (char 4801 - 9607)",
     "output_type": "error",
     "traceback": [
      "\u001b[0;31m---------------------------------------------------------------------------\u001b[0m",
      "\u001b[0;31mValueError\u001b[0m                                Traceback (most recent call last)",
      "\u001b[0;32m<ipython-input-12-730fc8d3cb3b>\u001b[0m in \u001b[0;36m<module>\u001b[0;34m()\u001b[0m\n\u001b[1;32m      1\u001b[0m \u001b[0;32mimport\u001b[0m \u001b[0mjson\u001b[0m\u001b[0;34m\u001b[0m\u001b[0m\n\u001b[0;32m----> 2\u001b[0;31m \u001b[0mjson\u001b[0m\u001b[0;34m.\u001b[0m\u001b[0mloads\u001b[0m\u001b[0;34m(\u001b[0m\u001b[0mres\u001b[0m\u001b[0;34m)\u001b[0m\u001b[0;34m\u001b[0m\u001b[0m\n\u001b[0m",
      "\u001b[0;32m~/.pyenv/versions/3.4.3/lib/python3.4/json/__init__.py\u001b[0m in \u001b[0;36mloads\u001b[0;34m(s, encoding, cls, object_hook, parse_float, parse_int, parse_constant, object_pairs_hook, **kw)\u001b[0m\n\u001b[1;32m    316\u001b[0m             \u001b[0mparse_int\u001b[0m \u001b[0;32mis\u001b[0m \u001b[0;32mNone\u001b[0m \u001b[0;32mand\u001b[0m \u001b[0mparse_float\u001b[0m \u001b[0;32mis\u001b[0m \u001b[0;32mNone\u001b[0m \u001b[0;32mand\u001b[0m\u001b[0;34m\u001b[0m\u001b[0m\n\u001b[1;32m    317\u001b[0m             parse_constant is None and object_pairs_hook is None and not kw):\n\u001b[0;32m--> 318\u001b[0;31m         \u001b[0;32mreturn\u001b[0m \u001b[0m_default_decoder\u001b[0m\u001b[0;34m.\u001b[0m\u001b[0mdecode\u001b[0m\u001b[0;34m(\u001b[0m\u001b[0ms\u001b[0m\u001b[0;34m)\u001b[0m\u001b[0;34m\u001b[0m\u001b[0m\n\u001b[0m\u001b[1;32m    319\u001b[0m     \u001b[0;32mif\u001b[0m \u001b[0mcls\u001b[0m \u001b[0;32mis\u001b[0m \u001b[0;32mNone\u001b[0m\u001b[0;34m:\u001b[0m\u001b[0;34m\u001b[0m\u001b[0m\n\u001b[1;32m    320\u001b[0m         \u001b[0mcls\u001b[0m \u001b[0;34m=\u001b[0m \u001b[0mJSONDecoder\u001b[0m\u001b[0;34m\u001b[0m\u001b[0m\n",
      "\u001b[0;32m~/.pyenv/versions/3.4.3/lib/python3.4/json/decoder.py\u001b[0m in \u001b[0;36mdecode\u001b[0;34m(self, s, _w)\u001b[0m\n\u001b[1;32m    344\u001b[0m         \u001b[0mend\u001b[0m \u001b[0;34m=\u001b[0m \u001b[0m_w\u001b[0m\u001b[0;34m(\u001b[0m\u001b[0ms\u001b[0m\u001b[0;34m,\u001b[0m \u001b[0mend\u001b[0m\u001b[0;34m)\u001b[0m\u001b[0;34m.\u001b[0m\u001b[0mend\u001b[0m\u001b[0;34m(\u001b[0m\u001b[0;34m)\u001b[0m\u001b[0;34m\u001b[0m\u001b[0m\n\u001b[1;32m    345\u001b[0m         \u001b[0;32mif\u001b[0m \u001b[0mend\u001b[0m \u001b[0;34m!=\u001b[0m \u001b[0mlen\u001b[0m\u001b[0;34m(\u001b[0m\u001b[0ms\u001b[0m\u001b[0;34m)\u001b[0m\u001b[0;34m:\u001b[0m\u001b[0;34m\u001b[0m\u001b[0m\n\u001b[0;32m--> 346\u001b[0;31m             \u001b[0;32mraise\u001b[0m \u001b[0mValueError\u001b[0m\u001b[0;34m(\u001b[0m\u001b[0merrmsg\u001b[0m\u001b[0;34m(\u001b[0m\u001b[0;34m\"Extra data\"\u001b[0m\u001b[0;34m,\u001b[0m \u001b[0ms\u001b[0m\u001b[0;34m,\u001b[0m \u001b[0mend\u001b[0m\u001b[0;34m,\u001b[0m \u001b[0mlen\u001b[0m\u001b[0;34m(\u001b[0m\u001b[0ms\u001b[0m\u001b[0;34m)\u001b[0m\u001b[0;34m)\u001b[0m\u001b[0;34m)\u001b[0m\u001b[0;34m\u001b[0m\u001b[0m\n\u001b[0m\u001b[1;32m    347\u001b[0m         \u001b[0;32mreturn\u001b[0m \u001b[0mobj\u001b[0m\u001b[0;34m\u001b[0m\u001b[0m\n\u001b[1;32m    348\u001b[0m \u001b[0;34m\u001b[0m\u001b[0m\n",
      "\u001b[0;31mValueError\u001b[0m: Extra data: line 2 column 1 - line 2 column 4807 (char 4801 - 9607)"
     ]
    }
   ],
   "source": [
    "import json\n",
    "json.loads(res)"
   ]
  },
  {
   "cell_type": "code",
   "execution_count": null,
   "metadata": {},
   "outputs": [],
   "source": [
    "import contextlib\n",
    "url = \"http://localhost:5000/route/v1/driving/-75,40;-75.5,40.2?steps=true\"\n",
    "with contextlib.closing(urllib.request.urlopen(url)) as conn:\n",
    "    result = conn.read()\n",
    "print(result)"
   ]
  }
 ],
 "metadata": {
  "kernelspec": {
   "display_name": "Python 3",
   "language": "python",
   "name": "python3"
  },
  "language_info": {
   "codemirror_mode": {
    "name": "ipython",
    "version": 3
   },
   "file_extension": ".py",
   "mimetype": "text/x-python",
   "name": "python",
   "nbconvert_exporter": "python",
   "pygments_lexer": "ipython3",
   "version": "3.4.3"
  }
 },
 "nbformat": 4,
 "nbformat_minor": 2
}
